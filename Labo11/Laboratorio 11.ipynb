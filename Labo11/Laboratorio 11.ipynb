{
 "cells": [
  {
   "cell_type": "markdown",
   "metadata": {},
   "source": [
    "# Laboratorio 11"
   ]
  },
  {
   "cell_type": "markdown",
   "metadata": {},
   "source": [
    "## Pregunta 01\n",
    "\n",
    "\n",
    "Buscando el número GDS4252 obtenemos (entre otros resultados) lo siguiente:\n",
    "\n",
    "![](ACCN.png)\n",
    "\n",
    "![](P1.png)\n",
    "\n",
    "Lo que nos da el número se GEO Series del CFTR.\n",
    "\n",
    "Además de ello, tenemos que el CFTR es una proteína que se encuentra en las membranas celulares de los tejidos animales que tienen una secreción exocrina. \n",
    "\n",
    "Encontramos 16 muestras en GEO2R usando el número GSE30439 que está presente en la primera imagen.\n",
    "\n",
    "![](Samples.png)"
   ]
  },
  {
   "cell_type": "markdown",
   "metadata": {},
   "source": [
    "## Pregunta 02\n",
    "\n",
    "Obtuvimos el siguiente resultado al buscar con GEO Data Sets:\n",
    "\n",
    "![](GSD3562.png)"
   ]
  }
 ],
 "metadata": {
  "kernelspec": {
   "display_name": "R",
   "language": "R",
   "name": "ir"
  },
  "language_info": {
   "codemirror_mode": "r",
   "file_extension": ".r",
   "mimetype": "text/x-r-source",
   "name": "R",
   "pygments_lexer": "r",
   "version": "3.3.2"
  }
 },
 "nbformat": 4,
 "nbformat_minor": 2
}
